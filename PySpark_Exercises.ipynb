{
  "nbformat": 4,
  "nbformat_minor": 0,
  "metadata": {
    "colab": {
      "name": "PySpark_Exercises.ipynb",
      "provenance": [],
      "collapsed_sections": [],
      "authorship_tag": "ABX9TyPVvXMehqFeLDSyl34wJ4xY",
      "include_colab_link": true
    },
    "kernelspec": {
      "name": "python3",
      "display_name": "Python 3"
    },
    "language_info": {
      "name": "python"
    },
    "accelerator": "GPU"
  },
  "cells": [
    {
      "cell_type": "markdown",
      "metadata": {
        "id": "view-in-github",
        "colab_type": "text"
      },
      "source": [
        "<a href=\"https://colab.research.google.com/github/rjarun8/Spark/blob/main/PySpark_Exercises.ipynb\" target=\"_parent\"><img src=\"https://colab.research.google.com/assets/colab-badge.svg\" alt=\"Open In Colab\"/></a>"
      ]
    },
    {
      "cell_type": "markdown",
      "metadata": {
        "id": "zeh4amvQsD50"
      },
      "source": [
        "#Setting Up Spark"
      ]
    },
    {
      "cell_type": "code",
      "metadata": {
        "colab": {
          "base_uri": "https://localhost:8080/"
        },
        "id": "AXCJfBohwiKw",
        "outputId": "a3a8f67e-2154-4e88-8c74-ec8012458da0"
      },
      "source": [
        "!git clone https://github.com/Apress/learn-pyspark.git"
      ],
      "execution_count": 1,
      "outputs": [
        {
          "output_type": "stream",
          "text": [
            "Cloning into 'learn-pyspark'...\n",
            "remote: Enumerating objects: 44, done.\u001b[K\n",
            "remote: Counting objects: 100% (44/44), done.\u001b[K\n",
            "remote: Compressing objects: 100% (33/33), done.\u001b[K\n",
            "remote: Total 44 (delta 11), reused 44 (delta 11), pack-reused 0\u001b[K\n",
            "Unpacking objects: 100% (44/44), done.\n"
          ],
          "name": "stdout"
        }
      ]
    },
    {
      "cell_type": "code",
      "metadata": {
        "id": "_mugElNNJK9M",
        "colab": {
          "base_uri": "https://localhost:8080/"
        },
        "outputId": "2c7fe51b-338d-4a87-92a5-be9396aabd06"
      },
      "source": [
        "#Spark env seyup\n",
        "\n",
        "!apt-get install openjdk-8-jdk-headless -qq > /dev/null\n",
        "!wget -q https://mirrors.estointernet.in/apache/spark/spark-3.1.2/spark-3.1.2-bin-hadoop3.2.tgz\n",
        "!tar xf '/content/spark-3.1.2-bin-hadoop3.2.tgz'\n",
        "!pip install -q findspark\n",
        "\n",
        "import os\n",
        "os.environ[\"JAVA_HOME\"] = \"/usr/lib/jvm/java-8-openjdk-amd64\"\n",
        "os.environ[\"SPARK_HOME\"] = \"/content/spark-3.1.2-bin-hadoop3.2\"\n",
        "\n",
        "\n",
        "import findspark\n",
        "findspark.init()\n",
        "print('spark location -->', findspark.find())"
      ],
      "execution_count": 2,
      "outputs": [
        {
          "output_type": "stream",
          "text": [
            "spark location --> /content/spark-3.1.2-bin-hadoop3.2\n"
          ],
          "name": "stdout"
        }
      ]
    },
    {
      "cell_type": "code",
      "metadata": {
        "id": "EvwkYKdNI-tu"
      },
      "source": [
        "from pyspark.sql import SparkSession\n"
      ],
      "execution_count": 3,
      "outputs": []
    },
    {
      "cell_type": "code",
      "metadata": {
        "colab": {
          "base_uri": "https://localhost:8080/",
          "height": 219
        },
        "id": "29dlmYb_tUun",
        "outputId": "2247016b-1283-4e90-d113-ae36ee81f9b0"
      },
      "source": [
        "SparkSession.builder.appName('data_processing').getOrCreate()"
      ],
      "execution_count": null,
      "outputs": [
        {
          "output_type": "execute_result",
          "data": {
            "text/html": [
              "\n",
              "            <div>\n",
              "                <p><b>SparkSession - in-memory</b></p>\n",
              "                \n",
              "        <div>\n",
              "            <p><b>SparkContext</b></p>\n",
              "\n",
              "            <p><a href=\"http://0bad1e5f457b:4040\">Spark UI</a></p>\n",
              "\n",
              "            <dl>\n",
              "              <dt>Version</dt>\n",
              "                <dd><code>v3.1.2</code></dd>\n",
              "              <dt>Master</dt>\n",
              "                <dd><code>local[*]</code></dd>\n",
              "              <dt>AppName</dt>\n",
              "                <dd><code>data_processing</code></dd>\n",
              "            </dl>\n",
              "        </div>\n",
              "        \n",
              "            </div>\n",
              "        "
            ],
            "text/plain": [
              "<pyspark.sql.session.SparkSession at 0x7f4d6db62410>"
            ]
          },
          "metadata": {
            "tags": []
          },
          "execution_count": 11
        }
      ]
    },
    {
      "cell_type": "code",
      "metadata": {
        "id": "BHGUcd-mJCG6"
      },
      "source": [
        "spark = SparkSession.builder.appName('data_preprocessing').getOrCreate()\n",
        "import pyspark.sql.functions as F\n",
        "from pyspark.sql.types import *\n",
        "from pyspark.sql.functions import pandas_udf,PandasUDFType"
      ],
      "execution_count": 5,
      "outputs": []
    },
    {
      "cell_type": "code",
      "metadata": {
        "id": "kz5xfeKfJ_AX"
      },
      "source": [
        "#Creating Dataframe\n",
        "schema = StructType().add(\"user_id\",\"string\").add(\"country\",\"string\").add(\"browser\",\"string\").add(\"os\",\"string\").add(\"age\",\"integer\")"
      ],
      "execution_count": null,
      "outputs": []
    },
    {
      "cell_type": "code",
      "metadata": {
        "id": "yAzVmFKSKEQL"
      },
      "source": [
        "df = spark.createDataFrame([('A201','India','Chrome','WIN',33),('A202','UK','Safari','MAC',27),\n",
        "                            ('A203','US','Firefox','UBUNTU',2)],schema=schema)"
      ],
      "execution_count": null,
      "outputs": []
    },
    {
      "cell_type": "code",
      "metadata": {
        "id": "oPSMflVkKMsO",
        "colab": {
          "base_uri": "https://localhost:8080/"
        },
        "outputId": "ac03a271-2f54-459f-e242-71dd6ceb7994"
      },
      "source": [
        "df.printSchema()"
      ],
      "execution_count": null,
      "outputs": [
        {
          "output_type": "stream",
          "text": [
            "root\n",
            " |-- user_id: string (nullable = true)\n",
            " |-- country: string (nullable = true)\n",
            " |-- browser: string (nullable = true)\n",
            " |-- os: string (nullable = true)\n",
            " |-- age: integer (nullable = true)\n",
            "\n"
          ],
          "name": "stdout"
        }
      ]
    },
    {
      "cell_type": "code",
      "metadata": {
        "colab": {
          "base_uri": "https://localhost:8080/"
        },
        "id": "LBz2O3uYKOni",
        "outputId": "e95e03ee-fa9f-4c32-ae81-fb15a91312ef"
      },
      "source": [
        "df.show()"
      ],
      "execution_count": null,
      "outputs": [
        {
          "output_type": "stream",
          "text": [
            "+-------+-------+-------+------+---+\n",
            "|user_id|country|browser|    os|age|\n",
            "+-------+-------+-------+------+---+\n",
            "|   A201|  India| Chrome|   WIN| 33|\n",
            "|   A202|     UK| Safari|   MAC| 27|\n",
            "|   A203|     US|Firefox|UBUNTU|  2|\n",
            "+-------+-------+-------+------+---+\n",
            "\n"
          ],
          "name": "stdout"
        }
      ]
    },
    {
      "cell_type": "code",
      "metadata": {
        "id": "2_7mE3HSKQoF"
      },
      "source": [
        "df_na = spark.createDataFrame([(\"A203\",None,\"Chrome\",\"WIN\",33),(\"A201\",'China',None,\"MacOS\",35),(\"A205\",'UK',\"Mozilla\",\"Linux\",25)],\n",
        "                              schema=schema)"
      ],
      "execution_count": null,
      "outputs": []
    },
    {
      "cell_type": "code",
      "metadata": {
        "id": "CrKImMq-KS6j",
        "colab": {
          "base_uri": "https://localhost:8080/"
        },
        "outputId": "1b5348e6-7239-4672-82d3-19cd5ca03b87"
      },
      "source": [
        "df_na.show()"
      ],
      "execution_count": null,
      "outputs": [
        {
          "output_type": "stream",
          "text": [
            "+-------+-------+-------+-----+---+\n",
            "|user_id|country|browser|   os|age|\n",
            "+-------+-------+-------+-----+---+\n",
            "|   A203|   null| Chrome|  WIN| 33|\n",
            "|   A201|  China|   null|MacOS| 35|\n",
            "|   A205|     UK|Mozilla|Linux| 25|\n",
            "+-------+-------+-------+-----+---+\n",
            "\n"
          ],
          "name": "stdout"
        }
      ]
    },
    {
      "cell_type": "code",
      "metadata": {
        "colab": {
          "base_uri": "https://localhost:8080/"
        },
        "id": "Ykr_RJd9vcrs",
        "outputId": "8375b780-fd3e-45e9-9d73-5e9d38981476"
      },
      "source": [
        "df_na.fillna('0').show()"
      ],
      "execution_count": null,
      "outputs": [
        {
          "output_type": "stream",
          "text": [
            "+-------+-------+-------+-----+---+\n",
            "|user_id|country|browser|   os|age|\n",
            "+-------+-------+-------+-----+---+\n",
            "|   A203|      0| Chrome|  WIN| 33|\n",
            "|   A201|  China|      0|MacOS| 35|\n",
            "|   A205|     UK|Mozilla|Linux| 25|\n",
            "+-------+-------+-------+-----+---+\n",
            "\n"
          ],
          "name": "stdout"
        }
      ]
    },
    {
      "cell_type": "code",
      "metadata": {
        "colab": {
          "base_uri": "https://localhost:8080/"
        },
        "id": "Iwqw7JezvjVt",
        "outputId": "a61585fd-5ef5-46ea-b2a5-8021d23e086d"
      },
      "source": [
        "df_na.fillna({'country':'USA',\"browser\":\"Safari\"}).show()"
      ],
      "execution_count": null,
      "outputs": [
        {
          "output_type": "stream",
          "text": [
            "+-------+-------+-------+-----+---+\n",
            "|user_id|country|browser|   os|age|\n",
            "+-------+-------+-------+-----+---+\n",
            "|   A203|    USA| Chrome|  WIN| 33|\n",
            "|   A201|  China| Safari|MacOS| 35|\n",
            "|   A205|     UK|Mozilla|Linux| 25|\n",
            "+-------+-------+-------+-----+---+\n",
            "\n"
          ],
          "name": "stdout"
        }
      ]
    },
    {
      "cell_type": "code",
      "metadata": {
        "colab": {
          "base_uri": "https://localhost:8080/"
        },
        "id": "bA2xC9gavxvL",
        "outputId": "41d6b707-9fcb-4827-a693-4033f518d77d"
      },
      "source": [
        "df_na.na.drop().show()"
      ],
      "execution_count": null,
      "outputs": [
        {
          "output_type": "stream",
          "text": [
            "+-------+-------+-------+-----+---+\n",
            "|user_id|country|browser|   os|age|\n",
            "+-------+-------+-------+-----+---+\n",
            "|   A205|     UK|Mozilla|Linux| 25|\n",
            "+-------+-------+-------+-----+---+\n",
            "\n"
          ],
          "name": "stdout"
        }
      ]
    },
    {
      "cell_type": "code",
      "metadata": {
        "id": "4Q6jQtDzwC6l"
      },
      "source": [
        "df = spark.read.csv(r'/content/learn-pyspark/chap_2/customer_data.csv',header=True,inferSchema=True)"
      ],
      "execution_count": null,
      "outputs": []
    },
    {
      "cell_type": "code",
      "metadata": {
        "colab": {
          "base_uri": "https://localhost:8080/"
        },
        "id": "V24bqju8w6Gq",
        "outputId": "c33623c8-297a-4138-8d53-72c81a17be54"
      },
      "source": [
        "df.count()"
      ],
      "execution_count": null,
      "outputs": [
        {
          "output_type": "execute_result",
          "data": {
            "text/plain": [
              "2000"
            ]
          },
          "metadata": {
            "tags": []
          },
          "execution_count": 33
        }
      ]
    },
    {
      "cell_type": "code",
      "metadata": {
        "colab": {
          "base_uri": "https://localhost:8080/"
        },
        "id": "ZmbLc3OWw7xx",
        "outputId": "07a84516-40f1-4f1b-9b5b-d6695788db8f"
      },
      "source": [
        "df.show(5)"
      ],
      "execution_count": null,
      "outputs": [
        {
          "output_type": "stream",
          "text": [
            "+--------------------+----------------+------------------+-----------+--------------------+----------+-----+\n",
            "|    Customer_subtype|Number_of_houses|Avg_size_household|    Avg_age|  Customer_main_type|Avg_Salary|label|\n",
            "+--------------------+----------------+------------------+-----------+--------------------+----------+-----+\n",
            "|Lower class large...|               1|                 3|30-40 years|Family with grown...|     44905|    0|\n",
            "|Mixed small town ...|               1|                 2|30-40 years|Family with grown...|     37575|    0|\n",
            "|Mixed small town ...|               1|                 2|30-40 years|Family with grown...|     27915|    0|\n",
            "|Modern, complete ...|               1|                 3|40-50 years|      Average Family|     19504|    0|\n",
            "|  Large family farms|               1|                 4|30-40 years|             Farmers|     34943|    0|\n",
            "+--------------------+----------------+------------------+-----------+--------------------+----------+-----+\n",
            "only showing top 5 rows\n",
            "\n"
          ],
          "name": "stdout"
        }
      ]
    },
    {
      "cell_type": "code",
      "metadata": {
        "colab": {
          "base_uri": "https://localhost:8080/"
        },
        "id": "Jzz3-ltJw9wx",
        "outputId": "dbaa3533-87cd-442f-e223-f0ee3ee4e87d"
      },
      "source": [
        "df.printSchema()"
      ],
      "execution_count": null,
      "outputs": [
        {
          "output_type": "stream",
          "text": [
            "root\n",
            " |-- Customer_subtype: string (nullable = true)\n",
            " |-- Number_of_houses: integer (nullable = true)\n",
            " |-- Avg_size_household: integer (nullable = true)\n",
            " |-- Avg_age: string (nullable = true)\n",
            " |-- Customer_main_type: string (nullable = true)\n",
            " |-- Avg_Salary: integer (nullable = true)\n",
            " |-- label: integer (nullable = true)\n",
            "\n"
          ],
          "name": "stdout"
        }
      ]
    },
    {
      "cell_type": "code",
      "metadata": {
        "colab": {
          "base_uri": "https://localhost:8080/"
        },
        "id": "LbSQxBQpxDV-",
        "outputId": "34f17be7-a9dd-482f-8339-c87bb643676f"
      },
      "source": [
        "df.summary().show()"
      ],
      "execution_count": null,
      "outputs": [
        {
          "output_type": "stream",
          "text": [
            "+-------+--------------------+------------------+------------------+-----------+--------------------+-----------------+------------------+\n",
            "|summary|    Customer_subtype|  Number_of_houses|Avg_size_household|    Avg_age|  Customer_main_type|       Avg_Salary|             label|\n",
            "+-------+--------------------+------------------+------------------+-----------+--------------------+-----------------+------------------+\n",
            "|  count|                2000|              2000|              2000|       2000|                2000|             2000|              2000|\n",
            "|   mean|                null|            1.1075|            2.6895|       null|                null|     1616908.0835|            0.0605|\n",
            "| stddev|                null|0.3873225521186316|0.7914562220841646|       null|                null|6822647.757312146|0.2384705099001677|\n",
            "|    min|Affluent senior a...|                 1|                 1|20-30 years|      Average Family|             1361|                 0|\n",
            "|    25%|                null|                 1|                 2|       null|                null|            20315|                 0|\n",
            "|    50%|                null|                 1|                 3|       null|                null|            31421|                 0|\n",
            "|    75%|                null|                 1|                 3|       null|                null|            42949|                 0|\n",
            "|    max| Young, low educated|                10|                 5|70-80 years|Successful hedonists|         48919896|                 1|\n",
            "+-------+--------------------+------------------+------------------+-----------+--------------------+-----------------+------------------+\n",
            "\n"
          ],
          "name": "stdout"
        }
      ]
    },
    {
      "cell_type": "markdown",
      "metadata": {
        "id": "KhFKNBiXxdAe"
      },
      "source": [
        "#Subset of a Dataframe\n",
        "    Select\n",
        "\n",
        "    Filter\n",
        "\n",
        "    Where"
      ]
    },
    {
      "cell_type": "code",
      "metadata": {
        "colab": {
          "base_uri": "https://localhost:8080/"
        },
        "id": "vhq_-d3yxKHe",
        "outputId": "ca0c1751-0ff6-4807-cc20-e5965b84a9ee"
      },
      "source": [
        "df.select(['Customer_subtype','Avg_Salary']).show(3)"
      ],
      "execution_count": null,
      "outputs": [
        {
          "output_type": "stream",
          "text": [
            "+--------------------+----------+\n",
            "|    Customer_subtype|Avg_Salary|\n",
            "+--------------------+----------+\n",
            "|Lower class large...|     44905|\n",
            "|Mixed small town ...|     37575|\n",
            "|Mixed small town ...|     27915|\n",
            "+--------------------+----------+\n",
            "only showing top 3 rows\n",
            "\n"
          ],
          "name": "stdout"
        }
      ]
    },
    {
      "cell_type": "code",
      "metadata": {
        "colab": {
          "base_uri": "https://localhost:8080/"
        },
        "id": "bYNhCPQyxyez",
        "outputId": "88b5eb29-17f5-4d36-e6a6-ae70990907fc"
      },
      "source": [
        "df.filter(df['Avg_Salary']>100000).count()"
      ],
      "execution_count": null,
      "outputs": [
        {
          "output_type": "execute_result",
          "data": {
            "text/plain": [
              "181"
            ]
          },
          "metadata": {
            "tags": []
          },
          "execution_count": 40
        }
      ]
    },
    {
      "cell_type": "code",
      "metadata": {
        "colab": {
          "base_uri": "https://localhost:8080/"
        },
        "id": "ORFPPh-fyBrl",
        "outputId": "6e4b1b3d-330f-4cbc-b9ce-1ac8efcb8961"
      },
      "source": [
        "df.filter(df['Avg_Salary']>100000).show(3)"
      ],
      "execution_count": null,
      "outputs": [
        {
          "output_type": "stream",
          "text": [
            "+--------------------+----------------+------------------+-----------+--------------------+----------+-----+\n",
            "|    Customer_subtype|Number_of_houses|Avg_size_household|    Avg_age|  Customer_main_type|Avg_Salary|label|\n",
            "+--------------------+----------------+------------------+-----------+--------------------+----------+-----+\n",
            "| High status seniors|               1|                 3|40-50 years|Successful hedonists|   4670288|    0|\n",
            "|Affluent young fa...|               1|                 3|30-40 years|      Average Family|    762769|    1|\n",
            "| High status seniors|               1|                 3|50-60 years|Successful hedonists|   9561873|    0|\n",
            "+--------------------+----------------+------------------+-----------+--------------------+----------+-----+\n",
            "only showing top 3 rows\n",
            "\n"
          ],
          "name": "stdout"
        }
      ]
    },
    {
      "cell_type": "code",
      "metadata": {
        "colab": {
          "base_uri": "https://localhost:8080/"
        },
        "id": "RNkMqZmQyFvU",
        "outputId": "a708b089-ea5f-44d7-f857-11b90620fcdc"
      },
      "source": [
        "df.where((df['Avg_Salary'] > 100000) & (df['Number_of_houses']>2)).show(3)"
      ],
      "execution_count": null,
      "outputs": [
        {
          "output_type": "stream",
          "text": [
            "+--------------------+----------------+------------------+-----------+--------------------+----------+-----+\n",
            "|    Customer_subtype|Number_of_houses|Avg_size_household|    Avg_age|  Customer_main_type|Avg_Salary|label|\n",
            "+--------------------+----------------+------------------+-----------+--------------------+----------+-----+\n",
            "|Affluent senior a...|               3|                 2|50-60 years|Successful hedonists|    596723|    0|\n",
            "|Affluent senior a...|               3|                 2|50-60 years|Successful hedonists|    944444|    0|\n",
            "|Affluent senior a...|               3|                 2|50-60 years|Successful hedonists|    788477|    0|\n",
            "+--------------------+----------------+------------------+-----------+--------------------+----------+-----+\n",
            "only showing top 3 rows\n",
            "\n"
          ],
          "name": "stdout"
        }
      ]
    },
    {
      "cell_type": "markdown",
      "metadata": {
        "id": "23fkUL8zyhCw"
      },
      "source": [
        "#Aggregations\n",
        "Any kind of aggregation can be broken simply into three stages, in the following order:\n",
        "\n",
        "    Split\n",
        "\n",
        "    Apply\n",
        "      mean,maxmmin,sum\n",
        "\n",
        "    Combine"
      ]
    },
    {
      "cell_type": "code",
      "metadata": {
        "colab": {
          "base_uri": "https://localhost:8080/"
        },
        "id": "7fKBJa3Ryank",
        "outputId": "4883ee5b-eb0a-49c0-bba1-875cbdc7ebbc"
      },
      "source": [
        "for col in df.columns:\n",
        "  if col != 'Avg_Salary':\n",
        "    print(f\"Aggregation for {col}\")\n",
        "    df.groupBy(col).count().orderBy('count',ascending=False).show(truncate=False)"
      ],
      "execution_count": null,
      "outputs": [
        {
          "output_type": "stream",
          "text": [
            "Aggregation for Customer_subtype\n",
            "+------------------------------------------+-----+\n",
            "|Customer_subtype                          |count|\n",
            "+------------------------------------------+-----+\n",
            "|Lower class large families                |288  |\n",
            "|Traditional families                      |129  |\n",
            "|Middle class families                     |122  |\n",
            "|Large religious families                  |107  |\n",
            "|Modern, complete families                 |93   |\n",
            "|Couples with teens 'Married with children'|83   |\n",
            "|Young and rising                          |78   |\n",
            "|High status seniors                       |76   |\n",
            "|Low income catholics                      |72   |\n",
            "|Mixed seniors                             |71   |\n",
            "|Village families                          |68   |\n",
            "|Mixed rurals                              |67   |\n",
            "|Stable family                             |62   |\n",
            "|Young all american family                 |62   |\n",
            "|Young, low educated                       |56   |\n",
            "|Large family, employed child              |56   |\n",
            "|Family starters                           |55   |\n",
            "|High Income, expensive child              |52   |\n",
            "|Mixed small town dwellers                 |47   |\n",
            "|Religious elderly singles                 |47   |\n",
            "+------------------------------------------+-----+\n",
            "only showing top 20 rows\n",
            "\n",
            "Aggregation for Number_of_houses\n",
            "+----------------+-----+\n",
            "|Number_of_houses|count|\n",
            "+----------------+-----+\n",
            "|1               |1808 |\n",
            "|2               |178  |\n",
            "|3               |12   |\n",
            "|5               |1    |\n",
            "|10              |1    |\n",
            "+----------------+-----+\n",
            "\n",
            "Aggregation for Avg_size_household\n",
            "+------------------+-----+\n",
            "|Avg_size_household|count|\n",
            "+------------------+-----+\n",
            "|3                 |900  |\n",
            "|2                 |730  |\n",
            "|4                 |255  |\n",
            "|1                 |94   |\n",
            "|5                 |21   |\n",
            "+------------------+-----+\n",
            "\n",
            "Aggregation for Avg_age\n",
            "+-----------+-----+\n",
            "|Avg_age    |count|\n",
            "+-----------+-----+\n",
            "|40-50 years|1028 |\n",
            "|30-40 years|496  |\n",
            "|50-60 years|373  |\n",
            "|60-70 years|64   |\n",
            "|20-30 years|31   |\n",
            "|70-80 years|8    |\n",
            "+-----------+-----+\n",
            "\n",
            "Aggregation for Customer_main_type\n",
            "+---------------------+-----+\n",
            "|Customer_main_type   |count|\n",
            "+---------------------+-----+\n",
            "|Family with grown ups|542  |\n",
            "|Average Family       |308  |\n",
            "|Conservative families|236  |\n",
            "|Retired and Religious|202  |\n",
            "|Successful hedonists |194  |\n",
            "|Living well          |178  |\n",
            "|Driven Growers       |172  |\n",
            "|Farmers              |93   |\n",
            "|Cruising Seniors     |60   |\n",
            "|Career Loners        |15   |\n",
            "+---------------------+-----+\n",
            "\n",
            "Aggregation for label\n",
            "+-----+-----+\n",
            "|label|count|\n",
            "+-----+-----+\n",
            "|0    |1879 |\n",
            "|1    |121  |\n",
            "+-----+-----+\n",
            "\n"
          ],
          "name": "stdout"
        }
      ]
    },
    {
      "cell_type": "code",
      "metadata": {
        "colab": {
          "base_uri": "https://localhost:8080/"
        },
        "id": "Xo2WWIYLy9QL",
        "outputId": "208ddba0-6610-477b-a649-ed015b27c048"
      },
      "source": [
        "df.groupBy('Customer_main_type').agg(F.mean('Avg_Salary')).show(3)"
      ],
      "execution_count": null,
      "outputs": [
        {
          "output_type": "stream",
          "text": [
            "+--------------------+------------------+\n",
            "|  Customer_main_type|   avg(Avg_Salary)|\n",
            "+--------------------+------------------+\n",
            "|             Farmers|30209.333333333332|\n",
            "|       Career Loners|           32272.6|\n",
            "|Retired and Relig...| 27338.80693069307|\n",
            "+--------------------+------------------+\n",
            "only showing top 3 rows\n",
            "\n"
          ],
          "name": "stdout"
        }
      ]
    },
    {
      "cell_type": "code",
      "metadata": {
        "colab": {
          "base_uri": "https://localhost:8080/"
        },
        "id": "WsO68xXLz8Ag",
        "outputId": "087f19a3-2a37-442e-93fa-83c3309cfc5f"
      },
      "source": [
        "df.sort(\"Avg_Salary\",ascending=False).show(3)"
      ],
      "execution_count": null,
      "outputs": [
        {
          "output_type": "stream",
          "text": [
            "+--------------------+----------------+------------------+-----------+--------------------+----------+-----+\n",
            "|    Customer_subtype|Number_of_houses|Avg_size_household|    Avg_age|  Customer_main_type|Avg_Salary|label|\n",
            "+--------------------+----------------+------------------+-----------+--------------------+----------+-----+\n",
            "| High status seniors|               1|                 2|60-70 years|Successful hedonists|  48919896|    0|\n",
            "|High Income, expe...|               1|                 2|50-60 years|Successful hedonists|  48177970|    0|\n",
            "|High Income, expe...|               1|                 2|50-60 years|Successful hedonists|  48069548|    1|\n",
            "+--------------------+----------------+------------------+-----------+--------------------+----------+-----+\n",
            "only showing top 3 rows\n",
            "\n"
          ],
          "name": "stdout"
        }
      ]
    },
    {
      "cell_type": "code",
      "metadata": {
        "colab": {
          "base_uri": "https://localhost:8080/"
        },
        "id": "CfMsdxvI0RAU",
        "outputId": "2d5df06f-956f-47d7-a0c7-ec7325ec2101"
      },
      "source": [
        "df.groupBy('Customer_subtype').agg(F.mean('Avg_Salary').alias('mean_salary')).orderBy('mean_salary',ascending=False).show(3)"
      ],
      "execution_count": null,
      "outputs": [
        {
          "output_type": "stream",
          "text": [
            "+--------------------+--------------------+\n",
            "|    Customer_subtype|         mean_salary|\n",
            "+--------------------+--------------------+\n",
            "| High status seniors| 2.507677857894737E7|\n",
            "|High Income, expe...|2.3839817807692308E7|\n",
            "|Affluent young fa...|   662068.7777777778|\n",
            "+--------------------+--------------------+\n",
            "only showing top 3 rows\n",
            "\n"
          ],
          "name": "stdout"
        }
      ]
    },
    {
      "cell_type": "markdown",
      "metadata": {
        "id": "7HM8Gj6R1BAd"
      },
      "source": [
        "Collect\n",
        "      \n",
        "    Collect List\n",
        "\n",
        "    Collect Set"
      ]
    },
    {
      "cell_type": "code",
      "metadata": {
        "colab": {
          "base_uri": "https://localhost:8080/"
        },
        "id": "z5tGq4if0xIq",
        "outputId": "cd5e3666-617c-4e7a-9d52-ccc816f5079b"
      },
      "source": [
        "df.groupby('Customer_subtype').agg(F.collect_set(\"Number_of_houses\")).show(3)"
      ],
      "execution_count": null,
      "outputs": [
        {
          "output_type": "stream",
          "text": [
            "+--------------------+-----------------------------+\n",
            "|    Customer_subtype|collect_set(Number_of_houses)|\n",
            "+--------------------+-----------------------------+\n",
            "|Large family, emp...|                       [1, 2]|\n",
            "|Religious elderly...|                       [1, 2]|\n",
            "|Large religious f...|                       [1, 2]|\n",
            "+--------------------+-----------------------------+\n",
            "only showing top 3 rows\n",
            "\n"
          ],
          "name": "stdout"
        }
      ]
    },
    {
      "cell_type": "code",
      "metadata": {
        "colab": {
          "base_uri": "https://localhost:8080/"
        },
        "id": "zenj_Jdv1oyn",
        "outputId": "3fcfc638-406a-4ce1-966d-a58fc20c2ee0"
      },
      "source": [
        "df.groupby('Customer_subtype').agg(F.collect_list(\"Number_of_houses\")).show(3)"
      ],
      "execution_count": null,
      "outputs": [
        {
          "output_type": "stream",
          "text": [
            "+--------------------+------------------------------+\n",
            "|    Customer_subtype|collect_list(Number_of_houses)|\n",
            "+--------------------+------------------------------+\n",
            "|Large family, emp...|          [2, 1, 2, 1, 2, 1...|\n",
            "|Religious elderly...|          [1, 1, 1, 1, 1, 1...|\n",
            "|Large religious f...|          [2, 1, 1, 2, 1, 1...|\n",
            "+--------------------+------------------------------+\n",
            "only showing top 3 rows\n",
            "\n"
          ],
          "name": "stdout"
        }
      ]
    },
    {
      "cell_type": "code",
      "metadata": {
        "colab": {
          "base_uri": "https://localhost:8080/"
        },
        "id": "y_Dut0WU1t1B",
        "outputId": "24f989b5-e291-4186-9d82-99b55ed30863"
      },
      "source": [
        "df = df.withColumn('Constant',F.lit('finance'))\n",
        "df.show(3)"
      ],
      "execution_count": null,
      "outputs": [
        {
          "output_type": "stream",
          "text": [
            "+--------------------+----------------+------------------+-----------+--------------------+----------+-----+--------+\n",
            "|    Customer_subtype|Number_of_houses|Avg_size_household|    Avg_age|  Customer_main_type|Avg_Salary|label|Constant|\n",
            "+--------------------+----------------+------------------+-----------+--------------------+----------+-----+--------+\n",
            "|Lower class large...|               1|                 3|30-40 years|Family with grown...|     44905|    0| finance|\n",
            "|Mixed small town ...|               1|                 2|30-40 years|Family with grown...|     37575|    0| finance|\n",
            "|Mixed small town ...|               1|                 2|30-40 years|Family with grown...|     27915|    0| finance|\n",
            "+--------------------+----------------+------------------+-----------+--------------------+----------+-----+--------+\n",
            "only showing top 3 rows\n",
            "\n"
          ],
          "name": "stdout"
        }
      ]
    },
    {
      "cell_type": "code",
      "metadata": {
        "colab": {
          "base_uri": "https://localhost:8080/"
        },
        "id": "AILSakP02HW9",
        "outputId": "cbb4b361-2094-482e-b952-396c065cb203"
      },
      "source": [
        "'''\n",
        "User-Defined Functions (UDFs)\n",
        "\n",
        "'''\n",
        "\n",
        "from pyspark.sql.functions import udf\n",
        "df.groupby(\"Avg_age\").count().show(3)"
      ],
      "execution_count": null,
      "outputs": [
        {
          "output_type": "stream",
          "text": [
            "+-----------+-----+\n",
            "|    Avg_age|count|\n",
            "+-----------+-----+\n",
            "|70-80 years|    8|\n",
            "|50-60 years|  373|\n",
            "|30-40 years|  496|\n",
            "+-----------+-----+\n",
            "only showing top 3 rows\n",
            "\n"
          ],
          "name": "stdout"
        }
      ]
    },
    {
      "cell_type": "code",
      "metadata": {
        "id": "fzhYWrP22qgL"
      },
      "source": [
        "def age_category(age):\n",
        "    if age  == \"20-30 years\":\n",
        "        return \"Young\"\n",
        "    elif age== \"30-40 years\":\n",
        "        return \"Mid Aged\"\n",
        "    elif ((age== \"40-50 years\") or (age== \"50-60 years\")) :\n",
        "        return \"Old\"\n",
        "    else:\n",
        "        return \"Very Old\""
      ],
      "execution_count": null,
      "outputs": []
    },
    {
      "cell_type": "code",
      "metadata": {
        "colab": {
          "base_uri": "https://localhost:8080/"
        },
        "id": "JxYyyW4_2y6w",
        "outputId": "9482cfa4-eeed-4a94-880f-d9567b0bb07a"
      },
      "source": [
        "age_udf = udf(age_category,StringType())\n",
        "df=df.withColumn('age_category',age_udf(df['Avg_age']))\n",
        "df.show(3)"
      ],
      "execution_count": null,
      "outputs": [
        {
          "output_type": "stream",
          "text": [
            "+--------------------+----------------+------------------+-----------+--------------------+----------+-----+--------+------------+\n",
            "|    Customer_subtype|Number_of_houses|Avg_size_household|    Avg_age|  Customer_main_type|Avg_Salary|label|Constant|age_category|\n",
            "+--------------------+----------------+------------------+-----------+--------------------+----------+-----+--------+------------+\n",
            "|Lower class large...|               1|                 3|30-40 years|Family with grown...|     44905|    0| finance|    Mid Aged|\n",
            "|Mixed small town ...|               1|                 2|30-40 years|Family with grown...|     37575|    0| finance|    Mid Aged|\n",
            "|Mixed small town ...|               1|                 2|30-40 years|Family with grown...|     27915|    0| finance|    Mid Aged|\n",
            "+--------------------+----------------+------------------+-----------+--------------------+----------+-----+--------+------------+\n",
            "only showing top 3 rows\n",
            "\n"
          ],
          "name": "stdout"
        }
      ]
    },
    {
      "cell_type": "code",
      "metadata": {
        "id": "Rwesb0lo3FKq"
      },
      "source": [
        "min_sal=1361\n",
        "max_sal=48919896\n",
        "from pyspark.sql.functions import pandas_udf,PandasUDFType\n",
        "\n",
        "def  scaled_salary(salary):\n",
        "    scaled_sal = ((salary-min_sal)/(max_sal-min_sal))\n",
        "    return scaled_sal"
      ],
      "execution_count": null,
      "outputs": []
    },
    {
      "cell_type": "code",
      "metadata": {
        "colab": {
          "base_uri": "https://localhost:8080/"
        },
        "id": "L7lepy_33nYp",
        "outputId": "b6452764-0f42-4722-eb14-0a3611c9a2d2"
      },
      "source": [
        "scaling_udf = pandas_udf(scaled_salary,DoubleType())\n",
        "df.withColumn(\"Scaled_salary\",scaling_udf(df['Avg_Salary'])).show(3)"
      ],
      "execution_count": null,
      "outputs": [
        {
          "output_type": "stream",
          "text": [
            "+--------------------+----------------+------------------+-----------+--------------------+----------+-----+--------+------------+--------------------+\n",
            "|    Customer_subtype|Number_of_houses|Avg_size_household|    Avg_age|  Customer_main_type|Avg_Salary|label|Constant|age_category|       Scaled_salary|\n",
            "+--------------------+----------------+------------------+-----------+--------------------+----------+-----+--------+------------+--------------------+\n",
            "|Lower class large...|               1|                 3|30-40 years|Family with grown...|     44905|    0| finance|    Mid Aged|8.901329526732557E-4|\n",
            "|Mixed small town ...|               1|                 2|30-40 years|Family with grown...|     37575|    0| finance|    Mid Aged| 7.40291997705982E-4|\n",
            "|Mixed small town ...|               1|                 2|30-40 years|Family with grown...|     27915|    0| finance|    Mid Aged| 5.42820834679534E-4|\n",
            "+--------------------+----------------+------------------+-----------+--------------------+----------+-----+--------+------------+--------------------+\n",
            "only showing top 3 rows\n",
            "\n"
          ],
          "name": "stdout"
        }
      ]
    },
    {
      "cell_type": "code",
      "metadata": {
        "colab": {
          "base_uri": "https://localhost:8080/"
        },
        "id": "_SUfkhCp359M",
        "outputId": "c23249a6-b08b-4175-89fb-fc363c11f572"
      },
      "source": [
        "'''Joins'''\n",
        "region_data = spark.createDataFrame([('Family with grown ups','PN'),\n",
        "                     ('Driven Growers','GJ'),('Conservative families','DD'),('Cruising Seniors','DL'),('Average Family ','MN'),\n",
        "                     ('Living well','KA'),('Successful hedonists','JH'),('Retired and Religious','AX'),\n",
        "                     ('Career Loners','HY'),('Farmers','JH')],\n",
        "                     schema = StructType().add(\"Customer_main_type\",\"string\").add(\"Region Code\",\"string\"))\n",
        "\n",
        "region_data.show()"
      ],
      "execution_count": null,
      "outputs": [
        {
          "output_type": "stream",
          "text": [
            "+--------------------+-----------+\n",
            "|  Customer_main_type|Region Code|\n",
            "+--------------------+-----------+\n",
            "|Family with grown...|         PN|\n",
            "|      Driven Growers|         GJ|\n",
            "|Conservative fami...|         DD|\n",
            "|    Cruising Seniors|         DL|\n",
            "|     Average Family |         MN|\n",
            "|         Living well|         KA|\n",
            "|Successful hedonists|         JH|\n",
            "|Retired and Relig...|         AX|\n",
            "|       Career Loners|         HY|\n",
            "|             Farmers|         JH|\n",
            "+--------------------+-----------+\n",
            "\n"
          ],
          "name": "stdout"
        }
      ]
    },
    {
      "cell_type": "code",
      "metadata": {
        "colab": {
          "base_uri": "https://localhost:8080/"
        },
        "id": "xqB_fvFN4jv5",
        "outputId": "5d700ce7-62c8-410d-943c-0d6b98b5dfe7"
      },
      "source": [
        "new_df = df.join(region_data,on='Customer_main_type')\n",
        "new_df.groupby(\"Region COde\").count().show(3)"
      ],
      "execution_count": null,
      "outputs": [
        {
          "output_type": "stream",
          "text": [
            "+-----------+-----+\n",
            "|Region COde|count|\n",
            "+-----------+-----+\n",
            "|         JH|  287|\n",
            "|         HY|   15|\n",
            "|         DD|  236|\n",
            "+-----------+-----+\n",
            "only showing top 3 rows\n",
            "\n"
          ],
          "name": "stdout"
        }
      ]
    },
    {
      "cell_type": "code",
      "metadata": {
        "colab": {
          "base_uri": "https://localhost:8080/"
        },
        "id": "Mzg4yPqV5gSp",
        "outputId": "8cc2d7b2-f667-46a9-df19-c431841c4d17"
      },
      "source": [
        "df.groupBy('Customer_main_type').pivot('Avg_age').sum('Avg_Salary').fillna(0).show(5)"
      ],
      "execution_count": null,
      "outputs": [
        {
          "output_type": "stream",
          "text": [
            "+--------------------+-----------+-----------+-----------+-----------+-----------+-----------+\n",
            "|  Customer_main_type|20-30 years|30-40 years|40-50 years|50-60 years|60-70 years|70-80 years|\n",
            "+--------------------+-----------+-----------+-----------+-----------+-----------+-----------+\n",
            "|             Farmers|          0|     462027|    2031235|     316206|          0|          0|\n",
            "|       Career Loners|     143998|     176639|      25701|     105193|      32558|          0|\n",
            "|Retired and Relig...|     126350|     336631|    2975266|    1687711|     335357|      61124|\n",
            "|Successful hedonists|      42261|  171278764| 1223362814| 1563071675|  200340129|      15518|\n",
            "|         Living well|     460528|    2965303|    1795405|     331304|          0|          0|\n",
            "+--------------------+-----------+-----------+-----------+-----------+-----------+-----------+\n",
            "only showing top 5 rows\n",
            "\n"
          ],
          "name": "stdout"
        }
      ]
    },
    {
      "cell_type": "markdown",
      "metadata": {
        "id": "n_NJywnJ6ijV"
      },
      "source": [
        "#Window Functions\n",
        "\n",
        "\n",
        "    Aggregations\n",
        "\n",
        "    Ranking\n",
        "\n",
        "    Analytics"
      ]
    },
    {
      "cell_type": "code",
      "metadata": {
        "colab": {
          "base_uri": "https://localhost:8080/"
        },
        "id": "9CXFobK26NBF",
        "outputId": "e259f09e-db30-423e-934a-2a8171663674"
      },
      "source": [
        "from pyspark.sql.window import Window\n",
        "from pyspark.sql.functions import col,row_number\n",
        "win = Window.orderBy(df['Avg_Salary'].desc())\n",
        "df = df.withColumn('rank', row_number().over(win).alias('rank'))\n",
        "df.show(3)"
      ],
      "execution_count": null,
      "outputs": [
        {
          "output_type": "stream",
          "text": [
            "+--------------------+----------------+------------------+-----------+--------------------+----------+-----+--------+------------+----+\n",
            "|    Customer_subtype|Number_of_houses|Avg_size_household|    Avg_age|  Customer_main_type|Avg_Salary|label|Constant|age_category|rank|\n",
            "+--------------------+----------------+------------------+-----------+--------------------+----------+-----+--------+------------+----+\n",
            "| High status seniors|               1|                 2|60-70 years|Successful hedonists|  48919896|    0| finance|    Very Old|   1|\n",
            "|High Income, expe...|               1|                 2|50-60 years|Successful hedonists|  48177970|    0| finance|         Old|   2|\n",
            "|High Income, expe...|               1|                 2|50-60 years|Successful hedonists|  48069548|    1| finance|         Old|   3|\n",
            "+--------------------+----------------+------------------+-----------+--------------------+----------+-----+--------+------------+----+\n",
            "only showing top 3 rows\n",
            "\n"
          ],
          "name": "stdout"
        }
      ]
    },
    {
      "cell_type": "code",
      "metadata": {
        "id": "P85UfjVO7BSp"
      },
      "source": [
        "win_1 = Window.partitionBy(\"Customer_subtype\").orderBy(df['Avg_Salary'].desc())\n",
        "df=df.withColumn('rank',row_number().over(win_1))#.alias('rank')"
      ],
      "execution_count": null,
      "outputs": []
    },
    {
      "cell_type": "code",
      "metadata": {
        "colab": {
          "base_uri": "https://localhost:8080/"
        },
        "id": "2tpueO5D76eL",
        "outputId": "bd161389-644b-4599-bfec-3e535f94de81"
      },
      "source": [
        "df.show(5)"
      ],
      "execution_count": null,
      "outputs": [
        {
          "output_type": "stream",
          "text": [
            "+--------------------+----------------+------------------+-----------+--------------------+----------+-----+--------+------------+----+\n",
            "|    Customer_subtype|Number_of_houses|Avg_size_household|    Avg_age|  Customer_main_type|Avg_Salary|label|Constant|age_category|rank|\n",
            "+--------------------+----------------+------------------+-----------+--------------------+----------+-----+--------+------------+----+\n",
            "|Large family, emp...|               2|                 3|30-40 years|Family with grown...|     49418|    0| finance|    Mid Aged|   1|\n",
            "|Large family, emp...|               1|                 4|40-50 years|Family with grown...|     48390|    0| finance|         Old|   2|\n",
            "|Large family, emp...|               1|                 3|40-50 years|Family with grown...|     48272|    0| finance|         Old|   3|\n",
            "|Large family, emp...|               1|                 2|40-50 years|Family with grown...|     47684|    0| finance|         Old|   4|\n",
            "|Large family, emp...|               1|                 3|40-50 years|Family with grown...|     46703|    0| finance|         Old|   5|\n",
            "+--------------------+----------------+------------------+-----------+--------------------+----------+-----+--------+------------+----+\n",
            "only showing top 5 rows\n",
            "\n"
          ],
          "name": "stdout"
        }
      ]
    },
    {
      "cell_type": "code",
      "metadata": {
        "colab": {
          "base_uri": "https://localhost:8080/"
        },
        "id": "1ag6J36379bb",
        "outputId": "75f3e0c5-0ca1-4f80-b6ae-068ab7115889"
      },
      "source": [
        "df.groupBy('rank').count().orderBy('rank').show(3)"
      ],
      "execution_count": null,
      "outputs": [
        {
          "output_type": "stream",
          "text": [
            "+----+-----+\n",
            "|rank|count|\n",
            "+----+-----+\n",
            "|   1|   39|\n",
            "|   2|   37|\n",
            "|   3|   36|\n",
            "+----+-----+\n",
            "only showing top 3 rows\n",
            "\n"
          ],
          "name": "stdout"
        }
      ]
    },
    {
      "cell_type": "code",
      "metadata": {
        "colab": {
          "base_uri": "https://localhost:8080/"
        },
        "id": "JTjERYOh8IQM",
        "outputId": "69f75abe-fb34-4508-a596-13406b225f34"
      },
      "source": [
        "df.filter(col('rank')<4).show(3)"
      ],
      "execution_count": null,
      "outputs": [
        {
          "output_type": "stream",
          "text": [
            "+--------------------+----------------+------------------+-----------+--------------------+----------+-----+--------+------------+----+\n",
            "|    Customer_subtype|Number_of_houses|Avg_size_household|    Avg_age|  Customer_main_type|Avg_Salary|label|Constant|age_category|rank|\n",
            "+--------------------+----------------+------------------+-----------+--------------------+----------+-----+--------+------------+----+\n",
            "|Large family, emp...|               2|                 3|30-40 years|Family with grown...|     49418|    0| finance|    Mid Aged|   1|\n",
            "|Large family, emp...|               1|                 4|40-50 years|Family with grown...|     48390|    0| finance|         Old|   2|\n",
            "|Large family, emp...|               1|                 3|40-50 years|Family with grown...|     48272|    0| finance|         Old|   3|\n",
            "+--------------------+----------------+------------------+-----------+--------------------+----------+-----+--------+------------+----+\n",
            "only showing top 3 rows\n",
            "\n"
          ],
          "name": "stdout"
        }
      ]
    },
    {
      "cell_type": "markdown",
      "metadata": {
        "id": "nhTYywejtotD"
      },
      "source": [
        "#Spark Structured Streaming\n",
        "\n",
        "Spark Streaming then, Spark structured streaming now"
      ]
    },
    {
      "cell_type": "code",
      "metadata": {
        "id": "hRjfaY7a8SKd"
      },
      "source": [
        "spark_stream = SparkSession.builder.appName('StructuredStreaming').getOrCreate()"
      ],
      "execution_count": 6,
      "outputs": []
    },
    {
      "cell_type": "code",
      "metadata": {
        "id": "Nx196G7l9-s8"
      },
      "source": [
        "df_1 = spark_stream.createDataFrame([(\"XN203\",'FB',300,30),(\"XN201\",'Twitter',10,19),(\"XN202\",'Insta',500,45)],[\"user_id\",\"app\",\"time_in_secs\",\"age\"]).\\\n",
        "write.csv('/content/csv_folder',mode='append')"
      ],
      "execution_count": 45,
      "outputs": []
    },
    {
      "cell_type": "code",
      "metadata": {
        "id": "E5DHn9nk9-vc"
      },
      "source": [
        "schema=StructType().add(\"user_id\",\"string\").add(\"app\",\"string\").add(\"time_in_secs\", \"integer\").add(\"age\", \"integer\")"
      ],
      "execution_count": 8,
      "outputs": []
    },
    {
      "cell_type": "code",
      "metadata": {
        "id": "nmbuMLUB9-xP"
      },
      "source": [
        "data = spark.readStream.option(\"sep\",\",\").schema(schema).csv('/content/csv_folder')"
      ],
      "execution_count": 10,
      "outputs": []
    },
    {
      "cell_type": "code",
      "metadata": {
        "id": "cYYMQcdl9-0p",
        "colab": {
          "base_uri": "https://localhost:8080/"
        },
        "outputId": "5e0ab613-4a69-4c7a-f98a-f51fa980f084"
      },
      "source": [
        "data.printSchema()"
      ],
      "execution_count": 12,
      "outputs": [
        {
          "output_type": "stream",
          "text": [
            "root\n",
            " |-- user_id: string (nullable = true)\n",
            " |-- app: string (nullable = true)\n",
            " |-- time_in_secs: integer (nullable = true)\n",
            " |-- age: integer (nullable = true)\n",
            "\n"
          ],
          "name": "stdout"
        }
      ]
    },
    {
      "cell_type": "code",
      "metadata": {
        "id": "HNP2U89c9-5z"
      },
      "source": [
        "app_count = data.groupBy('app').count()"
      ],
      "execution_count": 13,
      "outputs": []
    },
    {
      "cell_type": "code",
      "metadata": {
        "id": "wBJopnxH9-8x"
      },
      "source": [
        "query = (app_count.writeStream.queryName('count_query').outputMode('complete').format('memory').start())"
      ],
      "execution_count": 14,
      "outputs": []
    },
    {
      "cell_type": "code",
      "metadata": {
        "id": "2cnhnR-j9--v",
        "colab": {
          "base_uri": "https://localhost:8080/",
          "height": 143
        },
        "outputId": "260b721f-980c-4349-d61e-cdf14ea93997"
      },
      "source": [
        "spark.sql(\"select * from count_query\").toPandas().head(3)"
      ],
      "execution_count": 17,
      "outputs": [
        {
          "output_type": "execute_result",
          "data": {
            "text/html": [
              "<div>\n",
              "<style scoped>\n",
              "    .dataframe tbody tr th:only-of-type {\n",
              "        vertical-align: middle;\n",
              "    }\n",
              "\n",
              "    .dataframe tbody tr th {\n",
              "        vertical-align: top;\n",
              "    }\n",
              "\n",
              "    .dataframe thead th {\n",
              "        text-align: right;\n",
              "    }\n",
              "</style>\n",
              "<table border=\"1\" class=\"dataframe\">\n",
              "  <thead>\n",
              "    <tr style=\"text-align: right;\">\n",
              "      <th></th>\n",
              "      <th>app</th>\n",
              "      <th>count</th>\n",
              "    </tr>\n",
              "  </thead>\n",
              "  <tbody>\n",
              "    <tr>\n",
              "      <th>0</th>\n",
              "      <td>Insta</td>\n",
              "      <td>1</td>\n",
              "    </tr>\n",
              "    <tr>\n",
              "      <th>1</th>\n",
              "      <td>FB</td>\n",
              "      <td>1</td>\n",
              "    </tr>\n",
              "    <tr>\n",
              "      <th>2</th>\n",
              "      <td>Twitter</td>\n",
              "      <td>1</td>\n",
              "    </tr>\n",
              "  </tbody>\n",
              "</table>\n",
              "</div>"
            ],
            "text/plain": [
              "       app  count\n",
              "0    Insta      1\n",
              "1       FB      1\n",
              "2  Twitter      1"
            ]
          },
          "metadata": {
            "tags": []
          },
          "execution_count": 17
        }
      ]
    },
    {
      "cell_type": "code",
      "metadata": {
        "id": "arRQQT3w9_BE"
      },
      "source": [
        "fb_data = data.filter(data['app']=='FB')"
      ],
      "execution_count": 19,
      "outputs": []
    },
    {
      "cell_type": "code",
      "metadata": {
        "id": "A9FFWBk89_DA"
      },
      "source": [
        "fb_avg_time = fb_data.groupby('user_id').agg(F.avg('time_in_secs'))"
      ],
      "execution_count": 20,
      "outputs": []
    },
    {
      "cell_type": "code",
      "metadata": {
        "id": "2c-ZVPpi9_Fv"
      },
      "source": [
        "fb_query = (fb_avg_time.writeStream.queryName('fb_query').outputMode('complete').format('memory').start())"
      ],
      "execution_count": 21,
      "outputs": []
    },
    {
      "cell_type": "code",
      "metadata": {
        "id": "nbAPqk9f9_IY",
        "colab": {
          "base_uri": "https://localhost:8080/",
          "height": 80
        },
        "outputId": "32752716-863e-4b00-d7fa-df3a7ee9e680"
      },
      "source": [
        "spark.sql(\"select * from fb_query\").toPandas().head(3)"
      ],
      "execution_count": 23,
      "outputs": [
        {
          "output_type": "execute_result",
          "data": {
            "text/html": [
              "<div>\n",
              "<style scoped>\n",
              "    .dataframe tbody tr th:only-of-type {\n",
              "        vertical-align: middle;\n",
              "    }\n",
              "\n",
              "    .dataframe tbody tr th {\n",
              "        vertical-align: top;\n",
              "    }\n",
              "\n",
              "    .dataframe thead th {\n",
              "        text-align: right;\n",
              "    }\n",
              "</style>\n",
              "<table border=\"1\" class=\"dataframe\">\n",
              "  <thead>\n",
              "    <tr style=\"text-align: right;\">\n",
              "      <th></th>\n",
              "      <th>user_id</th>\n",
              "      <th>avg(time_in_secs)</th>\n",
              "    </tr>\n",
              "  </thead>\n",
              "  <tbody>\n",
              "    <tr>\n",
              "      <th>0</th>\n",
              "      <td>XN203</td>\n",
              "      <td>300.0</td>\n",
              "    </tr>\n",
              "  </tbody>\n",
              "</table>\n",
              "</div>"
            ],
            "text/plain": [
              "  user_id  avg(time_in_secs)\n",
              "0   XN203              300.0"
            ]
          },
          "metadata": {
            "tags": []
          },
          "execution_count": 23
        }
      ]
    },
    {
      "cell_type": "code",
      "metadata": {
        "id": "e263dsf09_Kt"
      },
      "source": [
        "df_3=spark.createDataFrame([(\"XN20\",'FB',100,30),(\"XN2044\",'FB',10,19),(\"XN2102\",'FB',2000,45)],[\"user_id\",\"app\",\"time_in_secs\",\"age\"]).write.csv(\"/content/csv_folder\",mode='append')"
      ],
      "execution_count": 33,
      "outputs": []
    },
    {
      "cell_type": "code",
      "metadata": {
        "id": "urjO02Mb9_NE",
        "colab": {
          "base_uri": "https://localhost:8080/",
          "height": 206
        },
        "outputId": "ced00949-a1cd-4782-b5d6-0640c0a5c891"
      },
      "source": [
        "spark.sql(\"select * from fb_query \").toPandas().head(5)"
      ],
      "execution_count": 34,
      "outputs": [
        {
          "output_type": "execute_result",
          "data": {
            "text/html": [
              "<div>\n",
              "<style scoped>\n",
              "    .dataframe tbody tr th:only-of-type {\n",
              "        vertical-align: middle;\n",
              "    }\n",
              "\n",
              "    .dataframe tbody tr th {\n",
              "        vertical-align: top;\n",
              "    }\n",
              "\n",
              "    .dataframe thead th {\n",
              "        text-align: right;\n",
              "    }\n",
              "</style>\n",
              "<table border=\"1\" class=\"dataframe\">\n",
              "  <thead>\n",
              "    <tr style=\"text-align: right;\">\n",
              "      <th></th>\n",
              "      <th>user_id</th>\n",
              "      <th>avg(time_in_secs)</th>\n",
              "    </tr>\n",
              "  </thead>\n",
              "  <tbody>\n",
              "    <tr>\n",
              "      <th>0</th>\n",
              "      <td>XN203</td>\n",
              "      <td>150.0</td>\n",
              "    </tr>\n",
              "    <tr>\n",
              "      <th>1</th>\n",
              "      <td>XN20</td>\n",
              "      <td>100.0</td>\n",
              "    </tr>\n",
              "    <tr>\n",
              "      <th>2</th>\n",
              "      <td>XN201</td>\n",
              "      <td>10.0</td>\n",
              "    </tr>\n",
              "    <tr>\n",
              "      <th>3</th>\n",
              "      <td>XN2044</td>\n",
              "      <td>10.0</td>\n",
              "    </tr>\n",
              "    <tr>\n",
              "      <th>4</th>\n",
              "      <td>XN202</td>\n",
              "      <td>2000.0</td>\n",
              "    </tr>\n",
              "  </tbody>\n",
              "</table>\n",
              "</div>"
            ],
            "text/plain": [
              "  user_id  avg(time_in_secs)\n",
              "0   XN203              150.0\n",
              "1    XN20              100.0\n",
              "2   XN201               10.0\n",
              "3  XN2044               10.0\n",
              "4   XN202             2000.0"
            ]
          },
          "metadata": {
            "tags": []
          },
          "execution_count": 34
        }
      ]
    },
    {
      "cell_type": "code",
      "metadata": {
        "id": "qIwsMDBv9_QY"
      },
      "source": [
        "app_df = data.groupBy('app').agg(F.sum('time_in_secs').alias('total_time')).orderBy('total_time',ascending=False)"
      ],
      "execution_count": 35,
      "outputs": []
    },
    {
      "cell_type": "code",
      "metadata": {
        "id": "WqcU-8Oz9_R_"
      },
      "source": [
        "app_query = (app_df.writeStream.queryName('app_wise_query').outputMode('Complete').format('memory').start())\n"
      ],
      "execution_count": 36,
      "outputs": []
    },
    {
      "cell_type": "code",
      "metadata": {
        "id": "SdQeFdgB9_U4",
        "colab": {
          "base_uri": "https://localhost:8080/",
          "height": 143
        },
        "outputId": "3f77dcfc-f1bf-4578-f2c9-3472ece39739"
      },
      "source": [
        "spark.sql(\"select * from app_wise_query\").toPandas().head(5)"
      ],
      "execution_count": 37,
      "outputs": [
        {
          "output_type": "execute_result",
          "data": {
            "text/html": [
              "<div>\n",
              "<style scoped>\n",
              "    .dataframe tbody tr th:only-of-type {\n",
              "        vertical-align: middle;\n",
              "    }\n",
              "\n",
              "    .dataframe tbody tr th {\n",
              "        vertical-align: top;\n",
              "    }\n",
              "\n",
              "    .dataframe thead th {\n",
              "        text-align: right;\n",
              "    }\n",
              "</style>\n",
              "<table border=\"1\" class=\"dataframe\">\n",
              "  <thead>\n",
              "    <tr style=\"text-align: right;\">\n",
              "      <th></th>\n",
              "      <th>app</th>\n",
              "      <th>total_time</th>\n",
              "    </tr>\n",
              "  </thead>\n",
              "  <tbody>\n",
              "    <tr>\n",
              "      <th>0</th>\n",
              "      <td>FB</td>\n",
              "      <td>10850</td>\n",
              "    </tr>\n",
              "    <tr>\n",
              "      <th>1</th>\n",
              "      <td>Insta</td>\n",
              "      <td>500</td>\n",
              "    </tr>\n",
              "    <tr>\n",
              "      <th>2</th>\n",
              "      <td>Twitter</td>\n",
              "      <td>10</td>\n",
              "    </tr>\n",
              "  </tbody>\n",
              "</table>\n",
              "</div>"
            ],
            "text/plain": [
              "       app  total_time\n",
              "0       FB       10850\n",
              "1    Insta         500\n",
              "2  Twitter          10"
            ]
          },
          "metadata": {
            "tags": []
          },
          "execution_count": 37
        }
      ]
    },
    {
      "cell_type": "code",
      "metadata": {
        "id": "Go6P8CgC9_XL"
      },
      "source": [
        "df_5=spark.createDataFrame([(\"XN203\",'FB',1000,30),(\"XN201\",'Insta',400,19),(\"XN202\",'Twitter',900,45)],[\"user_id\",\"app\",\"time_in_secs\",\"age\"]).write.csv(\"csv_folder\",mode='append')"
      ],
      "execution_count": 40,
      "outputs": []
    },
    {
      "cell_type": "code",
      "metadata": {
        "id": "qARlh9TI9_Zl",
        "colab": {
          "base_uri": "https://localhost:8080/",
          "height": 143
        },
        "outputId": "d2106f8b-1013-4125-d919-e4a0f83f237e"
      },
      "source": [
        "spark.sql(\"select * from app_wise_query\").toPandas().head(5)"
      ],
      "execution_count": 41,
      "outputs": [
        {
          "output_type": "execute_result",
          "data": {
            "text/html": [
              "<div>\n",
              "<style scoped>\n",
              "    .dataframe tbody tr th:only-of-type {\n",
              "        vertical-align: middle;\n",
              "    }\n",
              "\n",
              "    .dataframe tbody tr th {\n",
              "        vertical-align: top;\n",
              "    }\n",
              "\n",
              "    .dataframe thead th {\n",
              "        text-align: right;\n",
              "    }\n",
              "</style>\n",
              "<table border=\"1\" class=\"dataframe\">\n",
              "  <thead>\n",
              "    <tr style=\"text-align: right;\">\n",
              "      <th></th>\n",
              "      <th>app</th>\n",
              "      <th>total_time</th>\n",
              "    </tr>\n",
              "  </thead>\n",
              "  <tbody>\n",
              "    <tr>\n",
              "      <th>0</th>\n",
              "      <td>FB</td>\n",
              "      <td>11350</td>\n",
              "    </tr>\n",
              "    <tr>\n",
              "      <th>1</th>\n",
              "      <td>Insta</td>\n",
              "      <td>530</td>\n",
              "    </tr>\n",
              "    <tr>\n",
              "      <th>2</th>\n",
              "      <td>Twitter</td>\n",
              "      <td>110</td>\n",
              "    </tr>\n",
              "  </tbody>\n",
              "</table>\n",
              "</div>"
            ],
            "text/plain": [
              "       app  total_time\n",
              "0       FB       11350\n",
              "1    Insta         530\n",
              "2  Twitter         110"
            ]
          },
          "metadata": {
            "tags": []
          },
          "execution_count": 41
        }
      ]
    },
    {
      "cell_type": "code",
      "metadata": {
        "id": "HtsWbjpj9_ca"
      },
      "source": [
        "app_df=spark.createDataFrame([('FB','FACEBOOK'),('Insta','INSTAGRAM'),('Twitter','TWITTER')],[\"app\", \"full_name\"])"
      ],
      "execution_count": 42,
      "outputs": []
    },
    {
      "cell_type": "code",
      "metadata": {
        "id": "nVhwV3UN9_fC",
        "colab": {
          "base_uri": "https://localhost:8080/"
        },
        "outputId": "a5a0950f-f66c-446b-d820-3405c9aae2b8"
      },
      "source": [
        "app_df.show()"
      ],
      "execution_count": 43,
      "outputs": [
        {
          "output_type": "stream",
          "text": [
            "+-------+---------+\n",
            "|    app|full_name|\n",
            "+-------+---------+\n",
            "|     FB| FACEBOOK|\n",
            "|  Insta|INSTAGRAM|\n",
            "|Twitter|  TWITTER|\n",
            "+-------+---------+\n",
            "\n"
          ],
          "name": "stdout"
        }
      ]
    },
    {
      "cell_type": "code",
      "metadata": {
        "id": "UH8S4khb9_hs"
      },
      "source": [
        "app_stream_df = data.join(app_df,'app')\n",
        "join_query = (app_stream_df.writeStream.queryName('JoinQuery').outputMode('append').format('memory').start())"
      ],
      "execution_count": 47,
      "outputs": []
    },
    {
      "cell_type": "code",
      "metadata": {
        "id": "7EUh5xfb9_kA",
        "colab": {
          "base_uri": "https://localhost:8080/",
          "height": 143
        },
        "outputId": "7fabe897-6016-4a45-d58f-e7a1b041c210"
      },
      "source": [
        "spark.sql(\"select * from JoinQuery\").toPandas().head(3)"
      ],
      "execution_count": 48,
      "outputs": [
        {
          "output_type": "execute_result",
          "data": {
            "text/html": [
              "<div>\n",
              "<style scoped>\n",
              "    .dataframe tbody tr th:only-of-type {\n",
              "        vertical-align: middle;\n",
              "    }\n",
              "\n",
              "    .dataframe tbody tr th {\n",
              "        vertical-align: top;\n",
              "    }\n",
              "\n",
              "    .dataframe thead th {\n",
              "        text-align: right;\n",
              "    }\n",
              "</style>\n",
              "<table border=\"1\" class=\"dataframe\">\n",
              "  <thead>\n",
              "    <tr style=\"text-align: right;\">\n",
              "      <th></th>\n",
              "      <th>app</th>\n",
              "      <th>user_id</th>\n",
              "      <th>time_in_secs</th>\n",
              "      <th>age</th>\n",
              "      <th>full_name</th>\n",
              "    </tr>\n",
              "  </thead>\n",
              "  <tbody>\n",
              "    <tr>\n",
              "      <th>0</th>\n",
              "      <td>FB</td>\n",
              "      <td>XN20</td>\n",
              "      <td>100</td>\n",
              "      <td>30</td>\n",
              "      <td>FACEBOOK</td>\n",
              "    </tr>\n",
              "    <tr>\n",
              "      <th>1</th>\n",
              "      <td>FB</td>\n",
              "      <td>XN20</td>\n",
              "      <td>100</td>\n",
              "      <td>30</td>\n",
              "      <td>FACEBOOK</td>\n",
              "    </tr>\n",
              "    <tr>\n",
              "      <th>2</th>\n",
              "      <td>FB</td>\n",
              "      <td>XN203</td>\n",
              "      <td>300</td>\n",
              "      <td>30</td>\n",
              "      <td>FACEBOOK</td>\n",
              "    </tr>\n",
              "  </tbody>\n",
              "</table>\n",
              "</div>"
            ],
            "text/plain": [
              "  app user_id  time_in_secs  age full_name\n",
              "0  FB    XN20           100   30  FACEBOOK\n",
              "1  FB    XN20           100   30  FACEBOOK\n",
              "2  FB   XN203           300   30  FACEBOOK"
            ]
          },
          "metadata": {
            "tags": []
          },
          "execution_count": 48
        }
      ]
    },
    {
      "cell_type": "code",
      "metadata": {
        "id": "KzKiAfWm9_og"
      },
      "source": [
        ""
      ],
      "execution_count": null,
      "outputs": []
    },
    {
      "cell_type": "code",
      "metadata": {
        "id": "unI-5hpp9_rX"
      },
      "source": [
        ""
      ],
      "execution_count": null,
      "outputs": []
    },
    {
      "cell_type": "code",
      "metadata": {
        "id": "-w-oo1o29_tl"
      },
      "source": [
        ""
      ],
      "execution_count": null,
      "outputs": []
    }
  ]
}